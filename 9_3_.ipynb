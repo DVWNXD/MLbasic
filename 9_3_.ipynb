{
  "nbformat": 4,
  "nbformat_minor": 0,
  "metadata": {
    "colab": {
      "name": "9-3 .ipynb",
      "provenance": [],
      "authorship_tag": "ABX9TyP3UasBinu6xWscSxptBgFA",
      "include_colab_link": true
    },
    "kernelspec": {
      "name": "python3",
      "display_name": "Python 3"
    },
    "language_info": {
      "name": "python"
    },
    "accelerator": "GPU"
  },
  "cells": [
    {
      "cell_type": "markdown",
      "metadata": {
        "id": "view-in-github",
        "colab_type": "text"
      },
      "source": [
        "<a href=\"https://colab.research.google.com/github/DVWNXD/MLbasic/blob/main/9_3_.ipynb\" target=\"_parent\"><img src=\"https://colab.research.google.com/assets/colab-badge.svg\" alt=\"Open In Colab\"/></a>"
      ]
    },
    {
      "cell_type": "code",
      "execution_count": 2,
      "metadata": {
        "colab": {
          "base_uri": "https://localhost:8080/"
        },
        "id": "MTwGA0BEdmZg",
        "outputId": "92adf33c-7bbd-4d99-80b6-8b6689273540"
      },
      "outputs": [
        {
          "output_type": "stream",
          "name": "stdout",
          "text": [
            "Downloading data from https://storage.googleapis.com/tensorflow/tf-keras-datasets/imdb.npz\n",
            "17465344/17464789 [==============================] - 1s 0us/step\n",
            "17473536/17464789 [==============================] - 1s 0us/step\n"
          ]
        }
      ],
      "source": [
        "from tensorflow.keras.datasets import imdb\n",
        "from sklearn.model_selection import train_test_split\n",
        "(train_input, train_target), (test_input, test_target) = imdb.load_data(num_words=500)\n",
        "train_input, val_input, train_target, val_target = train_test_split(train_input, train_target, test_size=0.2, random_state=42)"
      ]
    },
    {
      "cell_type": "code",
      "source": [
        "from tensorflow.keras.preprocessing.sequence import pad_sequences\n",
        "train_seq = pad_sequences(train_input, maxlen=100)\n",
        "val_seq = pad_sequences(val_input, maxlen=100)"
      ],
      "metadata": {
        "id": "bSKCSK95jBPL"
      },
      "execution_count": 3,
      "outputs": []
    },
    {
      "cell_type": "code",
      "source": [
        "from tensorflow import keras\n",
        "model = keras.Sequential()\n",
        "model.add(keras.layers.Embedding(500,16, input_length=100))\n",
        "model.add(keras.layers.LSTM(8))\n",
        "model.add(keras.layers.Dense(1,activation='sigmoid'))"
      ],
      "metadata": {
        "id": "OuB-ZTh1jXE3"
      },
      "execution_count": 4,
      "outputs": []
    },
    {
      "cell_type": "code",
      "source": [
        "model.summary()"
      ],
      "metadata": {
        "colab": {
          "base_uri": "https://localhost:8080/"
        },
        "id": "A9qXTvZFjs5G",
        "outputId": "a2a60647-355a-4c40-b623-7ebcd105455f"
      },
      "execution_count": 5,
      "outputs": [
        {
          "output_type": "stream",
          "name": "stdout",
          "text": [
            "Model: \"sequential\"\n",
            "_________________________________________________________________\n",
            " Layer (type)                Output Shape              Param #   \n",
            "=================================================================\n",
            " embedding (Embedding)       (None, 100, 16)           8000      \n",
            "                                                                 \n",
            " lstm (LSTM)                 (None, 8)                 800       \n",
            "                                                                 \n",
            " dense (Dense)               (None, 1)                 9         \n",
            "                                                                 \n",
            "=================================================================\n",
            "Total params: 8,809\n",
            "Trainable params: 8,809\n",
            "Non-trainable params: 0\n",
            "_________________________________________________________________\n"
          ]
        }
      ]
    },
    {
      "cell_type": "code",
      "source": [
        "rmsprop = keras.optimizers.RMSprop(learning_rate=1e-4)\n",
        "model.compile(optimizer=rmsprop, loss='binary_crossentropy', metrics=['accuracy'])\n",
        "checkpoint_cb = keras.callbacks.ModelCheckpoint('best-lstm-model.h5')\n",
        "early_stopping_cb = keras.callbacks.EarlyStopping(patience=3, restore_best_weights=True)\n",
        "history = model.fit(train_seq,train_target, epochs=100, batch_size=64, validation_data=(val_seq, val_target), callbacks=[checkpoint_cb, early_stopping_cb])"
      ],
      "metadata": {
        "colab": {
          "base_uri": "https://localhost:8080/"
        },
        "id": "0J34eboOjvaq",
        "outputId": "3b909f02-1c08-4d78-daa3-a614296907c6"
      },
      "execution_count": 6,
      "outputs": [
        {
          "output_type": "stream",
          "name": "stdout",
          "text": [
            "Epoch 1/100\n",
            "313/313 [==============================] - 13s 22ms/step - loss: 0.6926 - accuracy: 0.5294 - val_loss: 0.6920 - val_accuracy: 0.5404\n",
            "Epoch 2/100\n",
            "313/313 [==============================] - 7s 22ms/step - loss: 0.6905 - accuracy: 0.5852 - val_loss: 0.6894 - val_accuracy: 0.6160\n",
            "Epoch 3/100\n",
            "313/313 [==============================] - 7s 23ms/step - loss: 0.6864 - accuracy: 0.6385 - val_loss: 0.6841 - val_accuracy: 0.6344\n",
            "Epoch 4/100\n",
            "313/313 [==============================] - 7s 22ms/step - loss: 0.6781 - accuracy: 0.6504 - val_loss: 0.6733 - val_accuracy: 0.6512\n",
            "Epoch 5/100\n",
            "313/313 [==============================] - 7s 24ms/step - loss: 0.6596 - accuracy: 0.6672 - val_loss: 0.6465 - val_accuracy: 0.6696\n",
            "Epoch 6/100\n",
            "313/313 [==============================] - 7s 23ms/step - loss: 0.6053 - accuracy: 0.6982 - val_loss: 0.5618 - val_accuracy: 0.7286\n",
            "Epoch 7/100\n",
            "313/313 [==============================] - 7s 24ms/step - loss: 0.5299 - accuracy: 0.7445 - val_loss: 0.5162 - val_accuracy: 0.7576\n",
            "Epoch 8/100\n",
            "313/313 [==============================] - 8s 26ms/step - loss: 0.4986 - accuracy: 0.7614 - val_loss: 0.4920 - val_accuracy: 0.7606\n",
            "Epoch 9/100\n",
            "313/313 [==============================] - 7s 24ms/step - loss: 0.4781 - accuracy: 0.7739 - val_loss: 0.4747 - val_accuracy: 0.7766\n",
            "Epoch 10/100\n",
            "313/313 [==============================] - 7s 23ms/step - loss: 0.4630 - accuracy: 0.7846 - val_loss: 0.4639 - val_accuracy: 0.7872\n",
            "Epoch 11/100\n",
            "313/313 [==============================] - 7s 22ms/step - loss: 0.4523 - accuracy: 0.7921 - val_loss: 0.4616 - val_accuracy: 0.7874\n",
            "Epoch 12/100\n",
            "313/313 [==============================] - 7s 24ms/step - loss: 0.4438 - accuracy: 0.7978 - val_loss: 0.4496 - val_accuracy: 0.7890\n",
            "Epoch 13/100\n",
            "313/313 [==============================] - 7s 23ms/step - loss: 0.4372 - accuracy: 0.8014 - val_loss: 0.4446 - val_accuracy: 0.7954\n",
            "Epoch 14/100\n",
            "313/313 [==============================] - 7s 23ms/step - loss: 0.4318 - accuracy: 0.8038 - val_loss: 0.4433 - val_accuracy: 0.7924\n",
            "Epoch 15/100\n",
            "313/313 [==============================] - 7s 23ms/step - loss: 0.4279 - accuracy: 0.8048 - val_loss: 0.4415 - val_accuracy: 0.7998\n",
            "Epoch 16/100\n",
            "313/313 [==============================] - 7s 23ms/step - loss: 0.4244 - accuracy: 0.8072 - val_loss: 0.4376 - val_accuracy: 0.7976\n",
            "Epoch 17/100\n",
            "313/313 [==============================] - 7s 23ms/step - loss: 0.4220 - accuracy: 0.8086 - val_loss: 0.4360 - val_accuracy: 0.7994\n",
            "Epoch 18/100\n",
            "313/313 [==============================] - 7s 23ms/step - loss: 0.4197 - accuracy: 0.8088 - val_loss: 0.4373 - val_accuracy: 0.7954\n",
            "Epoch 19/100\n",
            "313/313 [==============================] - 7s 23ms/step - loss: 0.4179 - accuracy: 0.8094 - val_loss: 0.4341 - val_accuracy: 0.7996\n",
            "Epoch 20/100\n",
            "313/313 [==============================] - 7s 24ms/step - loss: 0.4163 - accuracy: 0.8112 - val_loss: 0.4333 - val_accuracy: 0.7988\n",
            "Epoch 21/100\n",
            "313/313 [==============================] - 7s 23ms/step - loss: 0.4143 - accuracy: 0.8133 - val_loss: 0.4332 - val_accuracy: 0.8012\n",
            "Epoch 22/100\n",
            "313/313 [==============================] - 8s 24ms/step - loss: 0.4137 - accuracy: 0.8115 - val_loss: 0.4318 - val_accuracy: 0.7992\n",
            "Epoch 23/100\n",
            "313/313 [==============================] - 8s 24ms/step - loss: 0.4125 - accuracy: 0.8130 - val_loss: 0.4325 - val_accuracy: 0.8022\n",
            "Epoch 24/100\n",
            "313/313 [==============================] - 8s 25ms/step - loss: 0.4113 - accuracy: 0.8134 - val_loss: 0.4382 - val_accuracy: 0.7990\n",
            "Epoch 25/100\n",
            "313/313 [==============================] - 7s 23ms/step - loss: 0.4108 - accuracy: 0.8138 - val_loss: 0.4329 - val_accuracy: 0.7964\n"
          ]
        }
      ]
    },
    {
      "cell_type": "code",
      "source": [
        "import matplotlib.pyplot as plt\n",
        "plt.plot(history.history['loss'])\n",
        "plt.plot(history.history['val_loss'])\n",
        "plt.xlabel('epoch')\n",
        "plt.ylabel('loss')\n",
        "plt.legend(['train','val'])\n",
        "plt.show()"
      ],
      "metadata": {
        "colab": {
          "base_uri": "https://localhost:8080/",
          "height": 279
        },
        "id": "erSJxMF_kgIi",
        "outputId": "97f7073b-a896-450a-a92a-d8254f7f1d89"
      },
      "execution_count": 7,
      "outputs": [
        {
          "output_type": "display_data",
          "data": {
            "image/png": "[encoded data removed]",
            "text/plain": [
              "<Figure size 432x288 with 1 Axes>"
            ]
          },
          "metadata": {
            "needs_background": "light"
          }
        }
      ]
    },
    {
      "cell_type": "code",
      "source": [
        "model2 = keras.Sequential()\n",
        "model2.add(keras.layers.Embedding(500,16,input_length=100))\n",
        "model2.add(keras.layers.LSTM(8, dropout=0.3))\n",
        "model2.add(keras.layers.Dense(1, activation='sigmoid'))"
      ],
      "metadata": {
        "id": "9N0EJ5Hwk6wq"
      },
      "execution_count": 8,
      "outputs": []
    },
    {
      "cell_type": "code",
      "source": [
        "rmsprop = keras.optimizers.RMSprop(learning_rate=1e-4)\n",
        "model2.compile(optimizer=rmsprop, loss='binary_crossentropy', metrics=['accuracy'])\n",
        "checkpoint_cb = keras.callbacks.ModelCheckpoint('best-dropout-model.h5')\n",
        "early_stopping_cb = keras.callbacks.EarlyStopping(patience=3, restore_best_weights=True)\n",
        "history = model2.fit(train_seq,train_target, epochs=100, batch_size=64, validation_data=(val_seq, val_target), callbacks=[checkpoint_cb, early_stopping_cb])"
      ],
      "metadata": {
        "colab": {
          "base_uri": "https://localhost:8080/"
        },
        "id": "EXkGvrw7lPYK",
        "outputId": "d0b4be6d-1bca-4775-bd86-ca77c3634a9e"
      },
      "execution_count": 9,
      "outputs": [
        {
          "output_type": "stream",
          "name": "stdout",
          "text": [
            "Epoch 1/100\n",
            "313/313 [==============================] - 10s 22ms/step - loss: 0.6928 - accuracy: 0.5238 - val_loss: 0.6921 - val_accuracy: 0.5728\n",
            "Epoch 2/100\n",
            "313/313 [==============================] - 7s 21ms/step - loss: 0.6913 - accuracy: 0.5806 - val_loss: 0.6902 - val_accuracy: 0.5962\n",
            "Epoch 3/100\n",
            "313/313 [==============================] - 7s 21ms/step - loss: 0.6878 - accuracy: 0.6138 - val_loss: 0.6851 - val_accuracy: 0.6314\n",
            "Epoch 4/100\n",
            "313/313 [==============================] - 7s 21ms/step - loss: 0.6766 - accuracy: 0.6295 - val_loss: 0.6640 - val_accuracy: 0.6134\n",
            "Epoch 5/100\n",
            "313/313 [==============================] - 7s 21ms/step - loss: 0.6297 - accuracy: 0.6849 - val_loss: 0.6077 - val_accuracy: 0.7340\n",
            "Epoch 6/100\n",
            "313/313 [==============================] - 7s 21ms/step - loss: 0.5908 - accuracy: 0.7355 - val_loss: 0.5819 - val_accuracy: 0.7430\n",
            "Epoch 7/100\n",
            "313/313 [==============================] - 7s 21ms/step - loss: 0.5699 - accuracy: 0.7515 - val_loss: 0.5629 - val_accuracy: 0.7502\n",
            "Epoch 8/100\n",
            "313/313 [==============================] - 6s 21ms/step - loss: 0.5541 - accuracy: 0.7567 - val_loss: 0.5484 - val_accuracy: 0.7630\n",
            "Epoch 9/100\n",
            "313/313 [==============================] - 6s 21ms/step - loss: 0.5385 - accuracy: 0.7652 - val_loss: 0.5372 - val_accuracy: 0.7584\n",
            "Epoch 10/100\n",
            "313/313 [==============================] - 6s 21ms/step - loss: 0.5268 - accuracy: 0.7677 - val_loss: 0.5215 - val_accuracy: 0.7756\n",
            "Epoch 11/100\n",
            "313/313 [==============================] - 7s 21ms/step - loss: 0.5145 - accuracy: 0.7745 - val_loss: 0.5108 - val_accuracy: 0.7752\n",
            "Epoch 12/100\n",
            "313/313 [==============================] - 6s 21ms/step - loss: 0.5034 - accuracy: 0.7742 - val_loss: 0.5045 - val_accuracy: 0.7690\n",
            "Epoch 13/100\n",
            "313/313 [==============================] - 7s 21ms/step - loss: 0.4935 - accuracy: 0.7812 - val_loss: 0.4936 - val_accuracy: 0.7758\n",
            "Epoch 14/100\n",
            "313/313 [==============================] - 7s 21ms/step - loss: 0.4843 - accuracy: 0.7829 - val_loss: 0.4864 - val_accuracy: 0.7804\n",
            "Epoch 15/100\n",
            "313/313 [==============================] - 7s 21ms/step - loss: 0.4781 - accuracy: 0.7854 - val_loss: 0.4805 - val_accuracy: 0.7800\n",
            "Epoch 16/100\n",
            "313/313 [==============================] - 6s 21ms/step - loss: 0.4727 - accuracy: 0.7850 - val_loss: 0.4752 - val_accuracy: 0.7830\n",
            "Epoch 17/100\n",
            "313/313 [==============================] - 7s 21ms/step - loss: 0.4644 - accuracy: 0.7925 - val_loss: 0.4691 - val_accuracy: 0.7840\n",
            "Epoch 18/100\n",
            "313/313 [==============================] - 7s 21ms/step - loss: 0.4618 - accuracy: 0.7921 - val_loss: 0.4665 - val_accuracy: 0.7842\n",
            "Epoch 19/100\n",
            "313/313 [==============================] - 7s 21ms/step - loss: 0.4573 - accuracy: 0.7947 - val_loss: 0.4631 - val_accuracy: 0.7884\n",
            "Epoch 20/100\n",
            "313/313 [==============================] - 7s 21ms/step - loss: 0.4534 - accuracy: 0.7967 - val_loss: 0.4603 - val_accuracy: 0.7914\n",
            "Epoch 21/100\n",
            "313/313 [==============================] - 7s 21ms/step - loss: 0.4497 - accuracy: 0.7969 - val_loss: 0.4568 - val_accuracy: 0.7926\n",
            "Epoch 22/100\n",
            "313/313 [==============================] - 7s 21ms/step - loss: 0.4468 - accuracy: 0.7997 - val_loss: 0.4552 - val_accuracy: 0.7878\n",
            "Epoch 23/100\n",
            "313/313 [==============================] - 7s 22ms/step - loss: 0.4442 - accuracy: 0.7998 - val_loss: 0.4548 - val_accuracy: 0.7846\n",
            "Epoch 24/100\n",
            "313/313 [==============================] - 8s 24ms/step - loss: 0.4418 - accuracy: 0.8009 - val_loss: 0.4511 - val_accuracy: 0.7908\n",
            "Epoch 25/100\n",
            "313/313 [==============================] - 7s 24ms/step - loss: 0.4388 - accuracy: 0.8036 - val_loss: 0.4499 - val_accuracy: 0.7886\n",
            "Epoch 26/100\n",
            "313/313 [==============================] - 7s 24ms/step - loss: 0.4347 - accuracy: 0.8037 - val_loss: 0.4471 - val_accuracy: 0.7906\n",
            "Epoch 27/100\n",
            "313/313 [==============================] - 7s 24ms/step - loss: 0.4351 - accuracy: 0.8038 - val_loss: 0.4453 - val_accuracy: 0.7916\n",
            "Epoch 28/100\n",
            "313/313 [==============================] - 7s 23ms/step - loss: 0.4331 - accuracy: 0.8044 - val_loss: 0.4428 - val_accuracy: 0.7964\n",
            "Epoch 29/100\n",
            "313/313 [==============================] - 8s 24ms/step - loss: 0.4306 - accuracy: 0.8073 - val_loss: 0.4416 - val_accuracy: 0.7966\n",
            "Epoch 30/100\n",
            "313/313 [==============================] - 8s 24ms/step - loss: 0.4290 - accuracy: 0.8086 - val_loss: 0.4428 - val_accuracy: 0.7956\n",
            "Epoch 31/100\n",
            "313/313 [==============================] - 7s 21ms/step - loss: 0.4266 - accuracy: 0.8079 - val_loss: 0.4396 - val_accuracy: 0.7984\n",
            "Epoch 32/100\n",
            "313/313 [==============================] - 7s 22ms/step - loss: 0.4263 - accuracy: 0.8075 - val_loss: 0.4410 - val_accuracy: 0.7990\n",
            "Epoch 33/100\n",
            "313/313 [==============================] - 7s 23ms/step - loss: 0.4247 - accuracy: 0.8092 - val_loss: 0.4392 - val_accuracy: 0.7986\n",
            "Epoch 34/100\n",
            "313/313 [==============================] - 7s 23ms/step - loss: 0.4229 - accuracy: 0.8116 - val_loss: 0.4376 - val_accuracy: 0.7986\n",
            "Epoch 35/100\n",
            "313/313 [==============================] - 7s 22ms/step - loss: 0.4223 - accuracy: 0.8087 - val_loss: 0.4346 - val_accuracy: 0.8018\n",
            "Epoch 36/100\n",
            "313/313 [==============================] - 7s 22ms/step - loss: 0.4205 - accuracy: 0.8112 - val_loss: 0.4392 - val_accuracy: 0.7940\n",
            "Epoch 37/100\n",
            "313/313 [==============================] - 7s 21ms/step - loss: 0.4187 - accuracy: 0.8141 - val_loss: 0.4344 - val_accuracy: 0.8000\n",
            "Epoch 38/100\n",
            "313/313 [==============================] - 7s 21ms/step - loss: 0.4197 - accuracy: 0.8112 - val_loss: 0.4312 - val_accuracy: 0.8044\n",
            "Epoch 39/100\n",
            "313/313 [==============================] - 7s 21ms/step - loss: 0.4174 - accuracy: 0.8114 - val_loss: 0.4303 - val_accuracy: 0.8058\n",
            "Epoch 40/100\n",
            "313/313 [==============================] - 7s 21ms/step - loss: 0.4167 - accuracy: 0.8108 - val_loss: 0.4295 - val_accuracy: 0.8072\n",
            "Epoch 41/100\n",
            "313/313 [==============================] - 7s 21ms/step - loss: 0.4142 - accuracy: 0.8128 - val_loss: 0.4291 - val_accuracy: 0.8082\n",
            "Epoch 42/100\n",
            "313/313 [==============================] - 7s 23ms/step - loss: 0.4146 - accuracy: 0.8127 - val_loss: 0.4294 - val_accuracy: 0.8084\n",
            "Epoch 43/100\n",
            "313/313 [==============================] - 6s 21ms/step - loss: 0.4127 - accuracy: 0.8149 - val_loss: 0.4307 - val_accuracy: 0.8064\n",
            "Epoch 44/100\n",
            "313/313 [==============================] - 7s 22ms/step - loss: 0.4128 - accuracy: 0.8149 - val_loss: 0.4271 - val_accuracy: 0.8088\n",
            "Epoch 45/100\n",
            "313/313 [==============================] - 6s 21ms/step - loss: 0.4122 - accuracy: 0.8148 - val_loss: 0.4267 - val_accuracy: 0.8064\n",
            "Epoch 46/100\n",
            "313/313 [==============================] - 7s 21ms/step - loss: 0.4109 - accuracy: 0.8151 - val_loss: 0.4271 - val_accuracy: 0.8062\n",
            "Epoch 47/100\n",
            "313/313 [==============================] - 7s 22ms/step - loss: 0.4109 - accuracy: 0.8136 - val_loss: 0.4266 - val_accuracy: 0.8058\n",
            "Epoch 48/100\n",
            "313/313 [==============================] - 7s 21ms/step - loss: 0.4100 - accuracy: 0.8149 - val_loss: 0.4255 - val_accuracy: 0.8088\n",
            "Epoch 49/100\n",
            "313/313 [==============================] - 6s 21ms/step - loss: 0.4080 - accuracy: 0.8149 - val_loss: 0.4305 - val_accuracy: 0.8062\n",
            "Epoch 50/100\n",
            "313/313 [==============================] - 6s 21ms/step - loss: 0.4071 - accuracy: 0.8159 - val_loss: 0.4249 - val_accuracy: 0.8088\n",
            "Epoch 51/100\n",
            "313/313 [==============================] - 7s 21ms/step - loss: 0.4087 - accuracy: 0.8147 - val_loss: 0.4250 - val_accuracy: 0.8080\n",
            "Epoch 52/100\n",
            "313/313 [==============================] - 6s 21ms/step - loss: 0.4064 - accuracy: 0.8174 - val_loss: 0.4259 - val_accuracy: 0.8050\n",
            "Epoch 53/100\n",
            "313/313 [==============================] - 6s 21ms/step - loss: 0.4054 - accuracy: 0.8167 - val_loss: 0.4230 - val_accuracy: 0.8098\n",
            "Epoch 54/100\n",
            "313/313 [==============================] - 6s 21ms/step - loss: 0.4047 - accuracy: 0.8153 - val_loss: 0.4233 - val_accuracy: 0.8092\n",
            "Epoch 55/100\n",
            "313/313 [==============================] - 6s 21ms/step - loss: 0.4045 - accuracy: 0.8168 - val_loss: 0.4218 - val_accuracy: 0.8100\n",
            "Epoch 56/100\n",
            "313/313 [==============================] - 7s 21ms/step - loss: 0.4025 - accuracy: 0.8176 - val_loss: 0.4219 - val_accuracy: 0.8110\n",
            "Epoch 57/100\n",
            "313/313 [==============================] - 7s 21ms/step - loss: 0.4024 - accuracy: 0.8179 - val_loss: 0.4226 - val_accuracy: 0.8070\n",
            "Epoch 58/100\n",
            "313/313 [==============================] - 7s 21ms/step - loss: 0.4040 - accuracy: 0.8152 - val_loss: 0.4218 - val_accuracy: 0.8108\n",
            "Epoch 59/100\n",
            "313/313 [==============================] - 7s 21ms/step - loss: 0.4026 - accuracy: 0.8170 - val_loss: 0.4223 - val_accuracy: 0.8068\n",
            "Epoch 60/100\n",
            "313/313 [==============================] - 7s 21ms/step - loss: 0.4014 - accuracy: 0.8170 - val_loss: 0.4207 - val_accuracy: 0.8112\n",
            "Epoch 61/100\n",
            "313/313 [==============================] - 6s 21ms/step - loss: 0.4006 - accuracy: 0.8187 - val_loss: 0.4212 - val_accuracy: 0.8106\n",
            "Epoch 62/100\n",
            "313/313 [==============================] - 6s 21ms/step - loss: 0.4002 - accuracy: 0.8192 - val_loss: 0.4237 - val_accuracy: 0.8072\n",
            "Epoch 63/100\n",
            "313/313 [==============================] - 6s 21ms/step - loss: 0.4012 - accuracy: 0.8206 - val_loss: 0.4211 - val_accuracy: 0.8114\n"
          ]
        }
      ]
    },
    {
      "cell_type": "code",
      "source": [
        "import matplotlib.pyplot as plt\n",
        "plt.plot(history.history['loss'])\n",
        "plt.plot(history.history['val_loss'])\n",
        "plt.xlabel('epoch')\n",
        "plt.ylabel('loss')\n",
        "plt.legend(['train','val'])\n",
        "plt.show()"
      ],
      "metadata": {
        "colab": {
          "base_uri": "https://localhost:8080/",
          "height": 279
        },
        "id": "4q-AzXxWnP7g",
        "outputId": "2c0070bb-ede3-4374-9a7d-490c6a76369e"
      },
      "execution_count": 12,
      "outputs": [
        {
          "output_type": "display_data",
          "data": {
            "image/png": "[encoded data removed]",
            "text/plain": [
              "<Figure size 432x288 with 1 Axes>"
            ]
          },
          "metadata": {
            "needs_background": "light"
          }
        }
      ]
    },
    {
      "cell_type": "code",
      "source": [
        "model3 = keras.Sequential()\n",
        "model3.add(keras.layers.Embedding(500,16,input_length=100))\n",
        "model3.add(keras.layers.LSTM(8, dropout=0.3, return_sequences=True))\n",
        "model3.add(keras.layers.LSTM(8, dropout=0.3))\n",
        "model3.add(keras.layers.Dense(1, activation='sigmoid'))"
      ],
      "metadata": {
        "id": "u0bX6krxlfoE"
      },
      "execution_count": 13,
      "outputs": []
    },
    {
      "cell_type": "code",
      "source": [
        "model3.summary()"
      ],
      "metadata": {
        "colab": {
          "base_uri": "https://localhost:8080/"
        },
        "id": "kO6621EPnLuB",
        "outputId": "01c19109-f5dc-4573-c639-e2aa0a14d3de"
      },
      "execution_count": 14,
      "outputs": [
        {
          "output_type": "stream",
          "name": "stdout",
          "text": [
            "Model: \"sequential_4\"\n",
            "_________________________________________________________________\n",
            " Layer (type)                Output Shape              Param #   \n",
            "=================================================================\n",
            " embedding_4 (Embedding)     (None, 100, 16)           8000      \n",
            "                                                                 \n",
            " lstm_2 (LSTM)               (None, 100, 8)            800       \n",
            "                                                                 \n",
            " lstm_3 (LSTM)               (None, 8)                 544       \n",
            "                                                                 \n",
            " dense_2 (Dense)             (None, 1)                 9         \n",
            "                                                                 \n",
            "=================================================================\n",
            "Total params: 9,353\n",
            "Trainable params: 9,353\n",
            "Non-trainable params: 0\n",
            "_________________________________________________________________\n"
          ]
        }
      ]
    },
    {
      "cell_type": "code",
      "source": [
        "rmsprop = keras.optimizers.RMSprop(learning_rate=1e-4)\n",
        "model3.compile(optimizer=rmsprop, loss='binary_crossentropy', metrics=['accuracy'])\n",
        "checkpoint_cb = keras.callbacks.ModelCheckpoint('best-2rnn-model.h5')\n",
        "early_stopping_cb = keras.callbacks.EarlyStopping(patience=3, restore_best_weights=True)\n",
        "history = model3.fit(train_seq,train_target, epochs=100, batch_size=64, validation_data=(val_seq, val_target), callbacks=[checkpoint_cb, early_stopping_cb])"
      ],
      "metadata": {
        "colab": {
          "base_uri": "https://localhost:8080/"
        },
        "id": "BCOO6UyLnOZi",
        "outputId": "01b673eb-4f4e-44d6-9fd9-de4dd0e8e7d9"
      },
      "execution_count": 15,
      "outputs": [
        {
          "output_type": "stream",
          "name": "stdout",
          "text": [
            "Epoch 1/100\n",
            "313/313 [==============================] - 18s 45ms/step - loss: 0.6926 - accuracy: 0.5302 - val_loss: 0.6917 - val_accuracy: 0.6298\n",
            "Epoch 2/100\n",
            "313/313 [==============================] - 13s 43ms/step - loss: 0.6828 - accuracy: 0.6564 - val_loss: 0.6544 - val_accuracy: 0.7002\n",
            "Epoch 3/100\n",
            "313/313 [==============================] - 13s 42ms/step - loss: 0.6138 - accuracy: 0.6959 - val_loss: 0.5843 - val_accuracy: 0.7184\n",
            "Epoch 4/100\n",
            "313/313 [==============================] - 13s 42ms/step - loss: 0.5702 - accuracy: 0.7227 - val_loss: 0.5488 - val_accuracy: 0.7386\n",
            "Epoch 5/100\n",
            "313/313 [==============================] - 13s 42ms/step - loss: 0.5380 - accuracy: 0.7462 - val_loss: 0.5243 - val_accuracy: 0.7570\n",
            "Epoch 6/100\n",
            "313/313 [==============================] - 13s 42ms/step - loss: 0.5202 - accuracy: 0.7567 - val_loss: 0.5073 - val_accuracy: 0.7660\n",
            "Epoch 7/100\n",
            "313/313 [==============================] - 13s 43ms/step - loss: 0.5051 - accuracy: 0.7671 - val_loss: 0.4943 - val_accuracy: 0.7708\n",
            "Epoch 8/100\n",
            "313/313 [==============================] - 13s 42ms/step - loss: 0.4909 - accuracy: 0.7743 - val_loss: 0.4881 - val_accuracy: 0.7728\n",
            "Epoch 9/100\n",
            "313/313 [==============================] - 13s 42ms/step - loss: 0.4835 - accuracy: 0.7804 - val_loss: 0.4772 - val_accuracy: 0.7808\n",
            "Epoch 10/100\n",
            "313/313 [==============================] - 13s 42ms/step - loss: 0.4743 - accuracy: 0.7814 - val_loss: 0.4714 - val_accuracy: 0.7864\n",
            "Epoch 11/100\n",
            "313/313 [==============================] - 13s 43ms/step - loss: 0.4686 - accuracy: 0.7837 - val_loss: 0.4695 - val_accuracy: 0.7816\n",
            "Epoch 12/100\n",
            "313/313 [==============================] - 13s 43ms/step - loss: 0.4635 - accuracy: 0.7869 - val_loss: 0.4616 - val_accuracy: 0.7872\n",
            "Epoch 13/100\n",
            "313/313 [==============================] - 13s 43ms/step - loss: 0.4600 - accuracy: 0.7887 - val_loss: 0.4598 - val_accuracy: 0.7874\n",
            "Epoch 14/100\n",
            "313/313 [==============================] - 13s 42ms/step - loss: 0.4568 - accuracy: 0.7900 - val_loss: 0.4558 - val_accuracy: 0.7914\n",
            "Epoch 15/100\n",
            "313/313 [==============================] - 13s 42ms/step - loss: 0.4512 - accuracy: 0.7941 - val_loss: 0.4574 - val_accuracy: 0.7872\n",
            "Epoch 16/100\n",
            "313/313 [==============================] - 13s 42ms/step - loss: 0.4487 - accuracy: 0.7965 - val_loss: 0.4516 - val_accuracy: 0.7906\n",
            "Epoch 17/100\n",
            "313/313 [==============================] - 13s 42ms/step - loss: 0.4453 - accuracy: 0.7952 - val_loss: 0.4520 - val_accuracy: 0.7878\n",
            "Epoch 18/100\n",
            "313/313 [==============================] - 13s 42ms/step - loss: 0.4435 - accuracy: 0.7979 - val_loss: 0.4488 - val_accuracy: 0.7898\n",
            "Epoch 19/100\n",
            "313/313 [==============================] - 13s 42ms/step - loss: 0.4419 - accuracy: 0.7994 - val_loss: 0.4482 - val_accuracy: 0.7942\n",
            "Epoch 20/100\n",
            "313/313 [==============================] - 13s 42ms/step - loss: 0.4400 - accuracy: 0.7977 - val_loss: 0.4457 - val_accuracy: 0.7926\n",
            "Epoch 21/100\n",
            "313/313 [==============================] - 13s 42ms/step - loss: 0.4393 - accuracy: 0.7990 - val_loss: 0.4445 - val_accuracy: 0.7926\n",
            "Epoch 22/100\n",
            "313/313 [==============================] - 13s 42ms/step - loss: 0.4365 - accuracy: 0.8000 - val_loss: 0.4458 - val_accuracy: 0.7910\n",
            "Epoch 23/100\n",
            "313/313 [==============================] - 14s 43ms/step - loss: 0.4383 - accuracy: 0.8000 - val_loss: 0.4433 - val_accuracy: 0.7954\n",
            "Epoch 24/100\n",
            "313/313 [==============================] - 14s 44ms/step - loss: 0.4360 - accuracy: 0.7987 - val_loss: 0.4464 - val_accuracy: 0.7952\n",
            "Epoch 25/100\n",
            "313/313 [==============================] - 14s 43ms/step - loss: 0.4335 - accuracy: 0.8041 - val_loss: 0.4422 - val_accuracy: 0.7960\n",
            "Epoch 26/100\n",
            "313/313 [==============================] - 13s 43ms/step - loss: 0.4343 - accuracy: 0.8000 - val_loss: 0.4416 - val_accuracy: 0.7954\n",
            "Epoch 27/100\n",
            "313/313 [==============================] - 13s 43ms/step - loss: 0.4323 - accuracy: 0.8005 - val_loss: 0.4404 - val_accuracy: 0.7964\n",
            "Epoch 28/100\n",
            "313/313 [==============================] - 13s 43ms/step - loss: 0.4321 - accuracy: 0.8030 - val_loss: 0.4398 - val_accuracy: 0.7940\n",
            "Epoch 29/100\n",
            "313/313 [==============================] - 14s 44ms/step - loss: 0.4304 - accuracy: 0.8033 - val_loss: 0.4394 - val_accuracy: 0.7954\n",
            "Epoch 30/100\n",
            "313/313 [==============================] - 13s 42ms/step - loss: 0.4306 - accuracy: 0.8040 - val_loss: 0.4392 - val_accuracy: 0.7964\n",
            "Epoch 31/100\n",
            "313/313 [==============================] - 13s 43ms/step - loss: 0.4287 - accuracy: 0.8053 - val_loss: 0.4397 - val_accuracy: 0.7996\n",
            "Epoch 32/100\n",
            "313/313 [==============================] - 13s 42ms/step - loss: 0.4298 - accuracy: 0.8038 - val_loss: 0.4382 - val_accuracy: 0.7972\n",
            "Epoch 33/100\n",
            "313/313 [==============================] - 13s 42ms/step - loss: 0.4288 - accuracy: 0.8029 - val_loss: 0.4382 - val_accuracy: 0.7976\n",
            "Epoch 34/100\n",
            "313/313 [==============================] - 13s 42ms/step - loss: 0.4287 - accuracy: 0.8044 - val_loss: 0.4380 - val_accuracy: 0.7974\n",
            "Epoch 35/100\n",
            "313/313 [==============================] - 13s 42ms/step - loss: 0.4279 - accuracy: 0.8050 - val_loss: 0.4380 - val_accuracy: 0.7952\n",
            "Epoch 36/100\n",
            "313/313 [==============================] - 13s 43ms/step - loss: 0.4258 - accuracy: 0.8022 - val_loss: 0.4422 - val_accuracy: 0.7990\n",
            "Epoch 37/100\n",
            "313/313 [==============================] - 13s 42ms/step - loss: 0.4269 - accuracy: 0.8072 - val_loss: 0.4371 - val_accuracy: 0.7974\n",
            "Epoch 38/100\n",
            "313/313 [==============================] - 13s 42ms/step - loss: 0.4266 - accuracy: 0.8060 - val_loss: 0.4403 - val_accuracy: 0.8002\n",
            "Epoch 39/100\n",
            "313/313 [==============================] - 13s 42ms/step - loss: 0.4257 - accuracy: 0.8056 - val_loss: 0.4383 - val_accuracy: 0.7992\n",
            "Epoch 40/100\n",
            "313/313 [==============================] - 13s 42ms/step - loss: 0.4252 - accuracy: 0.8060 - val_loss: 0.4368 - val_accuracy: 0.8006\n",
            "Epoch 41/100\n",
            "313/313 [==============================] - 13s 42ms/step - loss: 0.4228 - accuracy: 0.8082 - val_loss: 0.4384 - val_accuracy: 0.7990\n",
            "Epoch 42/100\n",
            "313/313 [==============================] - 13s 42ms/step - loss: 0.4254 - accuracy: 0.8069 - val_loss: 0.4364 - val_accuracy: 0.7988\n",
            "Epoch 43/100\n",
            "313/313 [==============================] - 13s 42ms/step - loss: 0.4241 - accuracy: 0.8061 - val_loss: 0.4375 - val_accuracy: 0.7984\n",
            "Epoch 44/100\n",
            "313/313 [==============================] - 13s 42ms/step - loss: 0.4231 - accuracy: 0.8071 - val_loss: 0.4357 - val_accuracy: 0.7998\n",
            "Epoch 45/100\n",
            "313/313 [==============================] - 13s 42ms/step - loss: 0.4231 - accuracy: 0.8048 - val_loss: 0.4421 - val_accuracy: 0.7910\n",
            "Epoch 46/100\n",
            "313/313 [==============================] - 13s 42ms/step - loss: 0.4220 - accuracy: 0.8074 - val_loss: 0.4367 - val_accuracy: 0.7980\n",
            "Epoch 47/100\n",
            "313/313 [==============================] - 13s 42ms/step - loss: 0.4233 - accuracy: 0.8077 - val_loss: 0.4355 - val_accuracy: 0.7988\n",
            "Epoch 48/100\n",
            "313/313 [==============================] - 13s 42ms/step - loss: 0.4229 - accuracy: 0.8074 - val_loss: 0.4355 - val_accuracy: 0.7968\n",
            "Epoch 49/100\n",
            "313/313 [==============================] - 13s 42ms/step - loss: 0.4226 - accuracy: 0.8069 - val_loss: 0.4345 - val_accuracy: 0.8020\n",
            "Epoch 50/100\n",
            "313/313 [==============================] - 13s 42ms/step - loss: 0.4208 - accuracy: 0.8091 - val_loss: 0.4348 - val_accuracy: 0.8024\n",
            "Epoch 51/100\n",
            "313/313 [==============================] - 13s 42ms/step - loss: 0.4197 - accuracy: 0.8087 - val_loss: 0.4356 - val_accuracy: 0.8004\n",
            "Epoch 52/100\n",
            "313/313 [==============================] - 13s 42ms/step - loss: 0.4212 - accuracy: 0.8094 - val_loss: 0.4344 - val_accuracy: 0.8022\n",
            "Epoch 53/100\n",
            "313/313 [==============================] - 13s 43ms/step - loss: 0.4202 - accuracy: 0.8091 - val_loss: 0.4344 - val_accuracy: 0.7992\n",
            "Epoch 54/100\n",
            "313/313 [==============================] - 13s 42ms/step - loss: 0.4183 - accuracy: 0.8084 - val_loss: 0.4350 - val_accuracy: 0.7988\n",
            "Epoch 55/100\n",
            "313/313 [==============================] - 13s 42ms/step - loss: 0.4173 - accuracy: 0.8098 - val_loss: 0.4336 - val_accuracy: 0.7996\n",
            "Epoch 56/100\n",
            "313/313 [==============================] - 13s 42ms/step - loss: 0.4178 - accuracy: 0.8092 - val_loss: 0.4349 - val_accuracy: 0.8004\n",
            "Epoch 57/100\n",
            "313/313 [==============================] - 13s 42ms/step - loss: 0.4189 - accuracy: 0.8089 - val_loss: 0.4385 - val_accuracy: 0.7942\n",
            "Epoch 58/100\n",
            "313/313 [==============================] - 13s 42ms/step - loss: 0.4161 - accuracy: 0.8112 - val_loss: 0.4347 - val_accuracy: 0.8042\n"
          ]
        }
      ]
    },
    {
      "cell_type": "code",
      "source": [
        "plt.plot(history.history['loss'])\n",
        "plt.plot(history.history['val_loss'])\n",
        "plt.xlabel('epoch')\n",
        "plt.ylabel('loss')\n",
        "plt.legend(['train','val'])\n",
        "plt.show()"
      ],
      "metadata": {
        "colab": {
          "base_uri": "https://localhost:8080/",
          "height": 279
        },
        "id": "2o36TSGBnhIC",
        "outputId": "e9cc8ff0-6b68-4f06-bd31-0d45b5d9bd07"
      },
      "execution_count": 16,
      "outputs": [
        {
          "output_type": "display_data",
          "data": {
            "image/png": "[encoded data removed]",
            "text/plain": [
              "<Figure size 432x288 with 1 Axes>"
            ]
          },
          "metadata": {
            "needs_background": "light"
          }
        }
      ]
    },
    {
      "cell_type": "code",
      "source": [
        "model4 = keras.Sequential()\n",
        "model4.add(keras.layers.Embedding(500,16,input_length=100))\n",
        "model4.add(keras.layers.GRU(8))\n",
        "model4.add(keras.layers.Dense(1, activation='sigmoid'))"
      ],
      "metadata": {
        "id": "_UeBJRq3nkHo"
      },
      "execution_count": 17,
      "outputs": []
    },
    {
      "cell_type": "code",
      "source": [
        "model4.summary()"
      ],
      "metadata": {
        "colab": {
          "base_uri": "https://localhost:8080/"
        },
        "id": "rb73aKXwppzN",
        "outputId": "9435142c-a0c8-4136-ca67-92b2206877a1"
      },
      "execution_count": 18,
      "outputs": [
        {
          "output_type": "stream",
          "name": "stdout",
          "text": [
            "Model: \"sequential_5\"\n",
            "_________________________________________________________________\n",
            " Layer (type)                Output Shape              Param #   \n",
            "=================================================================\n",
            " embedding_5 (Embedding)     (None, 100, 16)           8000      \n",
            "                                                                 \n",
            " gru (GRU)                   (None, 8)                 624       \n",
            "                                                                 \n",
            " dense_3 (Dense)             (None, 1)                 9         \n",
            "                                                                 \n",
            "=================================================================\n",
            "Total params: 8,633\n",
            "Trainable params: 8,633\n",
            "Non-trainable params: 0\n",
            "_________________________________________________________________\n"
          ]
        }
      ]
    },
    {
      "cell_type": "code",
      "source": [
        "rmsprop = keras.optimizers.RMSprop(learning_rate=1e-4)\n",
        "model4.compile(optimizer=rmsprop, loss='binary_crossentropy', metrics=['accuracy'])\n",
        "checkpoint_cb = keras.callbacks.ModelCheckpoint('best-gru-model.h5')\n",
        "early_stopping_cb = keras.callbacks.EarlyStopping(patience=3, restore_best_weights=True)\n",
        "history = model4.fit(train_seq,train_target, epochs=100, batch_size=64, validation_data=(val_seq, val_target), callbacks=[checkpoint_cb, early_stopping_cb])"
      ],
      "metadata": {
        "colab": {
          "base_uri": "https://localhost:8080/"
        },
        "id": "YSXpqWSSprVq",
        "outputId": "c3efbadc-f20d-4457-d4a8-c0dcb0e9e143"
      },
      "execution_count": 19,
      "outputs": [
        {
          "output_type": "stream",
          "name": "stdout",
          "text": [
            "Epoch 1/100\n",
            "313/313 [==============================] - 12s 26ms/step - loss: 0.6921 - accuracy: 0.5294 - val_loss: 0.6910 - val_accuracy: 0.5316\n",
            "Epoch 2/100\n",
            "313/313 [==============================] - 6s 21ms/step - loss: 0.6897 - accuracy: 0.5636 - val_loss: 0.6883 - val_accuracy: 0.5660\n",
            "Epoch 3/100\n",
            "313/313 [==============================] - 7s 21ms/step - loss: 0.6858 - accuracy: 0.5914 - val_loss: 0.6839 - val_accuracy: 0.5838\n",
            "Epoch 4/100\n",
            "313/313 [==============================] - 7s 23ms/step - loss: 0.6796 - accuracy: 0.6112 - val_loss: 0.6770 - val_accuracy: 0.6022\n",
            "Epoch 5/100\n",
            "313/313 [==============================] - 8s 24ms/step - loss: 0.6700 - accuracy: 0.6241 - val_loss: 0.6666 - val_accuracy: 0.6188\n",
            "Epoch 6/100\n",
            "313/313 [==============================] - 7s 23ms/step - loss: 0.6560 - accuracy: 0.6387 - val_loss: 0.6517 - val_accuracy: 0.6314\n",
            "Epoch 7/100\n",
            "313/313 [==============================] - 7s 22ms/step - loss: 0.6351 - accuracy: 0.6604 - val_loss: 0.6278 - val_accuracy: 0.6604\n",
            "Epoch 8/100\n",
            "313/313 [==============================] - 7s 22ms/step - loss: 0.6021 - accuracy: 0.6860 - val_loss: 0.5886 - val_accuracy: 0.7004\n",
            "Epoch 9/100\n",
            "313/313 [==============================] - 7s 22ms/step - loss: 0.5445 - accuracy: 0.7244 - val_loss: 0.5259 - val_accuracy: 0.7396\n",
            "Epoch 10/100\n",
            "313/313 [==============================] - 7s 22ms/step - loss: 0.4972 - accuracy: 0.7597 - val_loss: 0.4995 - val_accuracy: 0.7582\n",
            "Epoch 11/100\n",
            "313/313 [==============================] - 7s 23ms/step - loss: 0.4799 - accuracy: 0.7725 - val_loss: 0.4859 - val_accuracy: 0.7690\n",
            "Epoch 12/100\n",
            "313/313 [==============================] - 8s 24ms/step - loss: 0.4673 - accuracy: 0.7838 - val_loss: 0.4752 - val_accuracy: 0.7740\n",
            "Epoch 13/100\n",
            "313/313 [==============================] - 7s 22ms/step - loss: 0.4579 - accuracy: 0.7879 - val_loss: 0.4682 - val_accuracy: 0.7784\n",
            "Epoch 14/100\n",
            "313/313 [==============================] - 6s 21ms/step - loss: 0.4505 - accuracy: 0.7918 - val_loss: 0.4667 - val_accuracy: 0.7770\n",
            "Epoch 15/100\n",
            "313/313 [==============================] - 7s 21ms/step - loss: 0.4444 - accuracy: 0.7981 - val_loss: 0.4580 - val_accuracy: 0.7850\n",
            "Epoch 16/100\n",
            "313/313 [==============================] - 6s 21ms/step - loss: 0.4395 - accuracy: 0.8008 - val_loss: 0.4593 - val_accuracy: 0.7804\n",
            "Epoch 17/100\n",
            "313/313 [==============================] - 6s 21ms/step - loss: 0.4356 - accuracy: 0.8044 - val_loss: 0.4554 - val_accuracy: 0.7854\n",
            "Epoch 18/100\n",
            "313/313 [==============================] - 6s 21ms/step - loss: 0.4320 - accuracy: 0.8053 - val_loss: 0.4511 - val_accuracy: 0.7858\n",
            "Epoch 19/100\n",
            "313/313 [==============================] - 6s 20ms/step - loss: 0.4294 - accuracy: 0.8076 - val_loss: 0.4488 - val_accuracy: 0.7894\n",
            "Epoch 20/100\n",
            "313/313 [==============================] - 7s 21ms/step - loss: 0.4271 - accuracy: 0.8106 - val_loss: 0.4473 - val_accuracy: 0.7938\n",
            "Epoch 21/100\n",
            "313/313 [==============================] - 7s 21ms/step - loss: 0.4252 - accuracy: 0.8104 - val_loss: 0.4513 - val_accuracy: 0.7882\n",
            "Epoch 22/100\n",
            "313/313 [==============================] - 6s 21ms/step - loss: 0.4231 - accuracy: 0.8109 - val_loss: 0.4489 - val_accuracy: 0.7890\n",
            "Epoch 23/100\n",
            "313/313 [==============================] - 7s 23ms/step - loss: 0.4225 - accuracy: 0.8119 - val_loss: 0.4486 - val_accuracy: 0.7920\n"
          ]
        }
      ]
    },
    {
      "cell_type": "code",
      "source": [
        "plt.plot(history.history['loss'])\n",
        "plt.plot(history.history['val_loss'])\n",
        "plt.xlabel('epoch')\n",
        "plt.ylabel('loss')\n",
        "plt.legend(['train','val'])\n",
        "plt.show()"
      ],
      "metadata": {
        "colab": {
          "base_uri": "https://localhost:8080/",
          "height": 279
        },
        "id": "X-RQFW8YrmTf",
        "outputId": "775204a5-3111-4541-d0eb-727f28bc119e"
      },
      "execution_count": 20,
      "outputs": [
        {
          "output_type": "display_data",
          "data": {
            "image/png": "[encoded data removed]",
            "text/plain": [
              "<Figure size 432x288 with 1 Axes>"
            ]
          },
          "metadata": {
            "needs_background": "light"
          }
        }
      ]
    },
    {
      "cell_type": "code",
      "source": [
        "test_seq=pad_sequences(test_input, maxlen=100)\n",
        "rnn_model = keras.models.load_model('best-2rnn-model.h5')\n",
        "rnn_model.evaluate(val_seq, val_target)"
      ],
      "metadata": {
        "colab": {
          "base_uri": "https://localhost:8080/"
        },
        "id": "8DdtMNsersF1",
        "outputId": "92a13841-b165-49aa-e5b6-19b79f5e1f78"
      },
      "execution_count": 22,
      "outputs": [
        {
          "output_type": "stream",
          "name": "stdout",
          "text": [
            "157/157 [==============================] - 3s 16ms/step - loss: 0.4347 - accuracy: 0.8042\n"
          ]
        },
        {
          "output_type": "execute_result",
          "data": {
            "text/plain": [
              "[0.4346683621406555, 0.8041999936103821]"
            ]
          },
          "metadata": {},
          "execution_count": 22
        }
      ]
    },
    {
      "cell_type": "code",
      "source": [
        ""
      ],
      "metadata": {
        "id": "yEIbqGdSr8Xp"
      },
      "execution_count": null,
      "outputs": []
    }
  ]
}