{
  "nbformat": 4,
  "nbformat_minor": 0,
  "metadata": {
    "colab": {
      "name": "9-2.ipynb",
      "provenance": [],
      "authorship_tag": "ABX9TyNtrE8VSU37NWGVn+mV/piH",
      "include_colab_link": true
    },
    "kernelspec": {
      "name": "python3",
      "display_name": "Python 3"
    },
    "language_info": {
      "name": "python"
    },
    "accelerator": "GPU"
  },
  "cells": [
    {
      "cell_type": "markdown",
      "metadata": {
        "id": "view-in-github",
        "colab_type": "text"
      },
      "source": [
        "<a href=\"https://colab.research.google.com/github/DVWNXD/MLbasic/blob/main/9_2.ipynb\" target=\"_parent\"><img src=\"https://colab.research.google.com/assets/colab-badge.svg\" alt=\"Open In Colab\"/></a>"
      ]
    },
    {
      "cell_type": "code",
      "execution_count": 1,
      "metadata": {
        "id": "V8zRJtFyC002"
      },
      "outputs": [],
      "source": [
        "from tensorflow.keras.datasets import imdb\n",
        "(train_input, train_target), (test_input, test_target) = imdb.load_data(num_words=500)"
      ]
    },
    {
      "cell_type": "code",
      "source": [
        "print(train_input.shape, test_input.shape)"
      ],
      "metadata": {
        "colab": {
          "base_uri": "https://localhost:8080/"
        },
        "id": "vmh7vH8uJte1",
        "outputId": "aff7117e-6ee7-4dee-8812-42a5a321bd7a"
      },
      "execution_count": 2,
      "outputs": [
        {
          "output_type": "stream",
          "name": "stdout",
          "text": [
            "(25000,) (25000,)\n"
          ]
        }
      ]
    },
    {
      "cell_type": "code",
      "source": [
        "print(len(train_input[0]))"
      ],
      "metadata": {
        "colab": {
          "base_uri": "https://localhost:8080/"
        },
        "id": "4nLde1xBJ9lJ",
        "outputId": "c521274e-2151-4424-8026-4560dda2faad"
      },
      "execution_count": 3,
      "outputs": [
        {
          "output_type": "stream",
          "name": "stdout",
          "text": [
            "218\n"
          ]
        }
      ]
    },
    {
      "cell_type": "code",
      "source": [
        "print(len(train_input[1]))"
      ],
      "metadata": {
        "colab": {
          "base_uri": "https://localhost:8080/"
        },
        "id": "-kFGITKhKU83",
        "outputId": "7d07f292-f09e-4e7d-a081-8fda4c23a8c4"
      },
      "execution_count": 4,
      "outputs": [
        {
          "output_type": "stream",
          "name": "stdout",
          "text": [
            "189\n"
          ]
        }
      ]
    },
    {
      "cell_type": "code",
      "source": [
        "print(train_input[0])"
      ],
      "metadata": {
        "colab": {
          "base_uri": "https://localhost:8080/"
        },
        "id": "o7mDulzEKeLt",
        "outputId": "9d819055-8fb9-4c30-caac-7e5a86f015fa"
      },
      "execution_count": 5,
      "outputs": [
        {
          "output_type": "stream",
          "name": "stdout",
          "text": [
            "[1, 14, 22, 16, 43, 2, 2, 2, 2, 65, 458, 2, 66, 2, 4, 173, 36, 256, 5, 25, 100, 43, 2, 112, 50, 2, 2, 9, 35, 480, 284, 5, 150, 4, 172, 112, 167, 2, 336, 385, 39, 4, 172, 2, 2, 17, 2, 38, 13, 447, 4, 192, 50, 16, 6, 147, 2, 19, 14, 22, 4, 2, 2, 469, 4, 22, 71, 87, 12, 16, 43, 2, 38, 76, 15, 13, 2, 4, 22, 17, 2, 17, 12, 16, 2, 18, 2, 5, 62, 386, 12, 8, 316, 8, 106, 5, 4, 2, 2, 16, 480, 66, 2, 33, 4, 130, 12, 16, 38, 2, 5, 25, 124, 51, 36, 135, 48, 25, 2, 33, 6, 22, 12, 215, 28, 77, 52, 5, 14, 407, 16, 82, 2, 8, 4, 107, 117, 2, 15, 256, 4, 2, 7, 2, 5, 2, 36, 71, 43, 2, 476, 26, 400, 317, 46, 7, 4, 2, 2, 13, 104, 88, 4, 381, 15, 297, 98, 32, 2, 56, 26, 141, 6, 194, 2, 18, 4, 226, 22, 21, 134, 476, 26, 480, 5, 144, 30, 2, 18, 51, 36, 28, 224, 92, 25, 104, 4, 226, 65, 16, 38, 2, 88, 12, 16, 283, 5, 16, 2, 113, 103, 32, 15, 16, 2, 19, 178, 32]\n"
          ]
        }
      ]
    },
    {
      "cell_type": "code",
      "source": [
        "print(train_target[:20])"
      ],
      "metadata": {
        "colab": {
          "base_uri": "https://localhost:8080/"
        },
        "id": "GMwEyhaoMylU",
        "outputId": "804911a2-968a-4f42-9b15-12027d39ffc9"
      },
      "execution_count": 6,
      "outputs": [
        {
          "output_type": "stream",
          "name": "stdout",
          "text": [
            "[1 0 0 1 0 0 1 0 1 0 1 0 0 0 0 0 1 1 0 1]\n"
          ]
        }
      ]
    },
    {
      "cell_type": "code",
      "source": [
        "from sklearn.model_selection import train_test_split\n",
        "train_input, val_input, train_target, val_target = train_test_split(train_input, train_target, test_size=0.2, random_state=42)"
      ],
      "metadata": {
        "id": "YTKXoyDuQYN2"
      },
      "execution_count": 7,
      "outputs": []
    },
    {
      "cell_type": "code",
      "source": [
        "import numpy as np\n",
        "lengths = np.array([len(x) for x in train_input])"
      ],
      "metadata": {
        "id": "j5PIGabMQ0wH"
      },
      "execution_count": 8,
      "outputs": []
    },
    {
      "cell_type": "code",
      "source": [
        "print(np.mean(lengths), np.median(lengths))"
      ],
      "metadata": {
        "colab": {
          "base_uri": "https://localhost:8080/"
        },
        "id": "6UhG53HwQ-xG",
        "outputId": "3f97cfae-b392-4296-db3a-6a4745726766"
      },
      "execution_count": 9,
      "outputs": [
        {
          "output_type": "stream",
          "name": "stdout",
          "text": [
            "239.00925 178.0\n"
          ]
        }
      ]
    },
    {
      "cell_type": "code",
      "source": [
        "import matplotlib.pyplot as plt\n",
        "plt.hist(lengths)\n",
        "plt.xlabel('length')\n",
        "plt.ylabel('frequency')\n",
        "plt.show()"
      ],
      "metadata": {
        "colab": {
          "base_uri": "https://localhost:8080/",
          "height": 279
        },
        "id": "Ob_Hi8TxRfxY",
        "outputId": "4c8ca593-8669-471b-98f4-9c233040719f"
      },
      "execution_count": 10,
      "outputs": [
        {
          "output_type": "display_data",
          "data": {
            "image/png": "[encoded data removed]",
            "text/plain": [
              "<Figure size 432x288 with 1 Axes>"
            ]
          },
          "metadata": {
            "needs_background": "light"
          }
        }
      ]
    },
    {
      "cell_type": "code",
      "source": [
        "from tensorflow.keras.preprocessing.sequence import pad_sequences\n",
        "train_seq = pad_sequences(train_input, maxlen=100)"
      ],
      "metadata": {
        "id": "3Y4XU1AdRr4M"
      },
      "execution_count": 11,
      "outputs": []
    },
    {
      "cell_type": "code",
      "source": [
        "print(train_seq.shape)"
      ],
      "metadata": {
        "colab": {
          "base_uri": "https://localhost:8080/"
        },
        "id": "K0bZvnGXS_wm",
        "outputId": "f1be95ac-302f-4010-c1c7-c91f61834fd2"
      },
      "execution_count": 12,
      "outputs": [
        {
          "output_type": "stream",
          "name": "stdout",
          "text": [
            "(20000, 100)\n"
          ]
        }
      ]
    },
    {
      "cell_type": "code",
      "source": [
        "print(train_seq[0])"
      ],
      "metadata": {
        "colab": {
          "base_uri": "https://localhost:8080/"
        },
        "id": "KreWQKbCTJyq",
        "outputId": "5f4bc1ba-bbb5-41dd-e12a-dd593d1ca52d"
      },
      "execution_count": 13,
      "outputs": [
        {
          "output_type": "stream",
          "name": "stdout",
          "text": [
            "[ 10   4  20   9   2 364 352   5  45   6   2   2  33 269   8   2 142   2\n",
            "   5   2  17  73  17 204   5   2  19  55   2   2  92  66 104  14  20  93\n",
            "  76   2 151  33   4  58  12 188   2 151  12 215  69 224 142  73 237   6\n",
            "   2   7   2   2 188   2 103  14  31  10  10 451   7   2   5   2  80  91\n",
            "   2  30   2  34  14  20 151  50  26 131  49   2  84  46  50  37  80  79\n",
            "   6   2  46   7  14  20  10  10 470 158]\n"
          ]
        }
      ]
    },
    {
      "cell_type": "code",
      "source": [
        "print(train_input[0][-10:]) #앞부분을 자른 것을 확인가능"
      ],
      "metadata": {
        "colab": {
          "base_uri": "https://localhost:8080/"
        },
        "id": "LHAGzFoOTL_r",
        "outputId": "08a2f758-0100-4cdc-95be-0049f663484c"
      },
      "execution_count": 14,
      "outputs": [
        {
          "output_type": "stream",
          "name": "stdout",
          "text": [
            "[6, 2, 46, 7, 14, 20, 10, 10, 470, 158]\n"
          ]
        }
      ]
    },
    {
      "cell_type": "code",
      "source": [
        "print(train_seq[5])"
      ],
      "metadata": {
        "colab": {
          "base_uri": "https://localhost:8080/"
        },
        "id": "Tumenl29TQj3",
        "outputId": "7cf0e6cd-141c-4714-af56-8765c2d5d2e3"
      },
      "execution_count": 15,
      "outputs": [
        {
          "output_type": "stream",
          "name": "stdout",
          "text": [
            "[  0   0   0   0   1   2 195  19  49   2   2 190   4   2 352   2 183  10\n",
            "  10  13  82  79   4   2  36  71 269   8   2  25  19  49   7   4   2   2\n",
            "   2   2   2  10  10  48  25  40   2  11   2   2  40   2   2   5   4   2\n",
            "   2  95  14 238  56 129   2  10  10  21   2  94 364 352   2   2  11 190\n",
            "  24 484   2   7  94 205 405  10  10  87   2  34  49   2   7   2   2   2\n",
            "   2   2 290   2  46  48  64  18   4   2]\n"
          ]
        }
      ]
    },
    {
      "cell_type": "code",
      "source": [
        "val_seq = pad_sequences(val_input, maxlen=100)"
      ],
      "metadata": {
        "id": "Xc-npT6LXZ20"
      },
      "execution_count": 16,
      "outputs": []
    },
    {
      "cell_type": "code",
      "source": [
        "from tensorflow import keras\n",
        "model = keras.Sequential()\n",
        "model.add(keras.layers.SimpleRNN(8, input_shape=(100,500)))\n",
        "model.add(keras.layers.Dense(1,activation='sigmoid'))"
      ],
      "metadata": {
        "id": "6k3x7B2baczb"
      },
      "execution_count": 17,
      "outputs": []
    },
    {
      "cell_type": "code",
      "source": [
        "train_oh = keras.utils.to_categorical(train_seq)"
      ],
      "metadata": {
        "id": "1ljnKNyxawtU"
      },
      "execution_count": 18,
      "outputs": []
    },
    {
      "cell_type": "code",
      "source": [
        "print(train_oh.shape)"
      ],
      "metadata": {
        "colab": {
          "base_uri": "https://localhost:8080/"
        },
        "id": "x8w1t9V2bFzM",
        "outputId": "3917042c-ca2f-456d-8ed7-b9769b41bf98"
      },
      "execution_count": 19,
      "outputs": [
        {
          "output_type": "stream",
          "name": "stdout",
          "text": [
            "(20000, 100, 500)\n"
          ]
        }
      ]
    },
    {
      "cell_type": "code",
      "source": [
        "print(train_oh[0][0][:12])"
      ],
      "metadata": {
        "colab": {
          "base_uri": "https://localhost:8080/"
        },
        "id": "Sp9IBPM3bJm7",
        "outputId": "033464db-bc07-44a3-c3f5-389ac2c448c2"
      },
      "execution_count": 20,
      "outputs": [
        {
          "output_type": "stream",
          "name": "stdout",
          "text": [
            "[0. 0. 0. 0. 0. 0. 0. 0. 0. 0. 1. 0.]\n"
          ]
        }
      ]
    },
    {
      "cell_type": "code",
      "source": [
        "print(np.sum(train_oh[0][0]))"
      ],
      "metadata": {
        "colab": {
          "base_uri": "https://localhost:8080/"
        },
        "id": "OPzyAbh2bUHz",
        "outputId": "1af29692-18f1-47e4-fb53-8d0532b7ac4e"
      },
      "execution_count": 21,
      "outputs": [
        {
          "output_type": "stream",
          "name": "stdout",
          "text": [
            "1.0\n"
          ]
        }
      ]
    },
    {
      "cell_type": "code",
      "source": [
        "val_oh = keras.utils.to_categorical(val_seq)"
      ],
      "metadata": {
        "id": "YdTcWC75bYuW"
      },
      "execution_count": 22,
      "outputs": []
    },
    {
      "cell_type": "code",
      "source": [
        "model.summary()"
      ],
      "metadata": {
        "colab": {
          "base_uri": "https://localhost:8080/"
        },
        "id": "cKN7GpBLbehU",
        "outputId": "7889b559-af22-467f-a226-e45118c42f23"
      },
      "execution_count": 23,
      "outputs": [
        {
          "output_type": "stream",
          "name": "stdout",
          "text": [
            "Model: \"sequential\"\n",
            "_________________________________________________________________\n",
            " Layer (type)                Output Shape              Param #   \n",
            "=================================================================\n",
            " simple_rnn (SimpleRNN)      (None, 8)                 4072      \n",
            "                                                                 \n",
            " dense (Dense)               (None, 1)                 9         \n",
            "                                                                 \n",
            "=================================================================\n",
            "Total params: 4,081\n",
            "Trainable params: 4,081\n",
            "Non-trainable params: 0\n",
            "_________________________________________________________________\n"
          ]
        }
      ]
    },
    {
      "cell_type": "code",
      "source": [
        "rmsprop=keras.optimizers.RMSprop(learning_rate=1e-4)\n",
        "model.compile(optimizer=rmsprop, loss= 'binary_crossentropy',metrics=['accuracy'])\n",
        "checkpoint_cb = keras.callbacks.ModelCheckpoint('best-simplernn-model.h5')\n",
        "early_stopping_cb = keras.callbacks.EarlyStopping(patience=3, restore_best_weights=True)\n",
        "history = model.fit(train_oh, train_target, epochs=100, batch_size=64, validation_data=(val_oh, val_target),callbacks=[checkpoint_cb, early_stopping_cb])"
      ],
      "metadata": {
        "colab": {
          "base_uri": "https://localhost:8080/"
        },
        "id": "S3YjFKXUbg2q",
        "outputId": "f7d7e9b9-ef8c-419b-c77c-ab43b7fedf9e"
      },
      "execution_count": 24,
      "outputs": [
        {
          "output_type": "stream",
          "name": "stdout",
          "text": [
            "Epoch 1/100\n",
            "313/313 [==============================] - 45s 132ms/step - loss: 0.6984 - accuracy: 0.5113 - val_loss: 0.6981 - val_accuracy: 0.5052\n",
            "Epoch 2/100\n",
            "313/313 [==============================] - 39s 124ms/step - loss: 0.6927 - accuracy: 0.5243 - val_loss: 0.6934 - val_accuracy: 0.5134\n",
            "Epoch 3/100\n",
            "313/313 [==============================] - 38s 122ms/step - loss: 0.6878 - accuracy: 0.5426 - val_loss: 0.6890 - val_accuracy: 0.5326\n",
            "Epoch 4/100\n",
            "313/313 [==============================] - 39s 125ms/step - loss: 0.6807 - accuracy: 0.5678 - val_loss: 0.6800 - val_accuracy: 0.5674\n",
            "Epoch 5/100\n",
            "313/313 [==============================] - 39s 125ms/step - loss: 0.6475 - accuracy: 0.6296 - val_loss: 0.6412 - val_accuracy: 0.6378\n",
            "Epoch 6/100\n",
            "313/313 [==============================] - 38s 122ms/step - loss: 0.6164 - accuracy: 0.6698 - val_loss: 0.6164 - val_accuracy: 0.6674\n",
            "Epoch 7/100\n",
            "313/313 [==============================] - 39s 123ms/step - loss: 0.5914 - accuracy: 0.6964 - val_loss: 0.5948 - val_accuracy: 0.6864\n",
            "Epoch 8/100\n",
            "313/313 [==============================] - 40s 127ms/step - loss: 0.5692 - accuracy: 0.7172 - val_loss: 0.5765 - val_accuracy: 0.7050\n",
            "Epoch 9/100\n",
            "313/313 [==============================] - 38s 121ms/step - loss: 0.5496 - accuracy: 0.7347 - val_loss: 0.5565 - val_accuracy: 0.7234\n",
            "Epoch 10/100\n",
            "313/313 [==============================] - 39s 125ms/step - loss: 0.5325 - accuracy: 0.7484 - val_loss: 0.5450 - val_accuracy: 0.7328\n",
            "Epoch 11/100\n",
            "313/313 [==============================] - 39s 125ms/step - loss: 0.5170 - accuracy: 0.7569 - val_loss: 0.5293 - val_accuracy: 0.7468\n",
            "Epoch 12/100\n",
            "313/313 [==============================] - 38s 120ms/step - loss: 0.5035 - accuracy: 0.7677 - val_loss: 0.5165 - val_accuracy: 0.7538\n",
            "Epoch 13/100\n",
            "313/313 [==============================] - 39s 125ms/step - loss: 0.4920 - accuracy: 0.7752 - val_loss: 0.5071 - val_accuracy: 0.7594\n",
            "Epoch 14/100\n",
            "313/313 [==============================] - 40s 126ms/step - loss: 0.4816 - accuracy: 0.7802 - val_loss: 0.4988 - val_accuracy: 0.7650\n",
            "Epoch 15/100\n",
            "313/313 [==============================] - 38s 121ms/step - loss: 0.4731 - accuracy: 0.7853 - val_loss: 0.4932 - val_accuracy: 0.7686\n",
            "Epoch 16/100\n",
            "313/313 [==============================] - 38s 121ms/step - loss: 0.4655 - accuracy: 0.7894 - val_loss: 0.4856 - val_accuracy: 0.7738\n",
            "Epoch 17/100\n",
            "313/313 [==============================] - 38s 120ms/step - loss: 0.4582 - accuracy: 0.7954 - val_loss: 0.4793 - val_accuracy: 0.7776\n",
            "Epoch 18/100\n",
            "313/313 [==============================] - 38s 121ms/step - loss: 0.4527 - accuracy: 0.7972 - val_loss: 0.4754 - val_accuracy: 0.7810\n",
            "Epoch 19/100\n",
            "313/313 [==============================] - 38s 123ms/step - loss: 0.4476 - accuracy: 0.8003 - val_loss: 0.4733 - val_accuracy: 0.7794\n",
            "Epoch 20/100\n",
            "313/313 [==============================] - 38s 122ms/step - loss: 0.4432 - accuracy: 0.8034 - val_loss: 0.4702 - val_accuracy: 0.7826\n",
            "Epoch 21/100\n",
            "313/313 [==============================] - 38s 122ms/step - loss: 0.4388 - accuracy: 0.8040 - val_loss: 0.4658 - val_accuracy: 0.7836\n",
            "Epoch 22/100\n",
            "313/313 [==============================] - 38s 122ms/step - loss: 0.4354 - accuracy: 0.8062 - val_loss: 0.4627 - val_accuracy: 0.7858\n",
            "Epoch 23/100\n",
            "313/313 [==============================] - 38s 122ms/step - loss: 0.4324 - accuracy: 0.8074 - val_loss: 0.4694 - val_accuracy: 0.7818\n",
            "Epoch 24/100\n",
            "313/313 [==============================] - 39s 125ms/step - loss: 0.4295 - accuracy: 0.8094 - val_loss: 0.4583 - val_accuracy: 0.7864\n",
            "Epoch 25/100\n",
            "313/313 [==============================] - 38s 122ms/step - loss: 0.4269 - accuracy: 0.8105 - val_loss: 0.4578 - val_accuracy: 0.7876\n",
            "Epoch 26/100\n",
            "313/313 [==============================] - 38s 121ms/step - loss: 0.4244 - accuracy: 0.8129 - val_loss: 0.4562 - val_accuracy: 0.7880\n",
            "Epoch 27/100\n",
            "313/313 [==============================] - 38s 123ms/step - loss: 0.4221 - accuracy: 0.8124 - val_loss: 0.4539 - val_accuracy: 0.7890\n",
            "Epoch 28/100\n",
            "313/313 [==============================] - 38s 122ms/step - loss: 0.4207 - accuracy: 0.8151 - val_loss: 0.4598 - val_accuracy: 0.7936\n",
            "Epoch 29/100\n",
            "313/313 [==============================] - 38s 121ms/step - loss: 0.4190 - accuracy: 0.8138 - val_loss: 0.4543 - val_accuracy: 0.7902\n",
            "Epoch 30/100\n",
            "313/313 [==============================] - 38s 122ms/step - loss: 0.4171 - accuracy: 0.8173 - val_loss: 0.4564 - val_accuracy: 0.7878\n"
          ]
        }
      ]
    },
    {
      "cell_type": "code",
      "source": [
        "plt.plot(history.history['loss'])\n",
        "plt.plot(history.history['val_loss'])\n",
        "plt.xlabel('eqoch')\n",
        "plt.ylabel('loss')\n",
        "plt.legend(['train', 'val'])\n",
        "plt.show()"
      ],
      "metadata": {
        "colab": {
          "base_uri": "https://localhost:8080/",
          "height": 279
        },
        "id": "G008qFh0c7CN",
        "outputId": "d91f4aef-0818-4a0f-f9f1-7e22419459d3"
      },
      "execution_count": 25,
      "outputs": [
        {
          "output_type": "display_data",
          "data": {
            "image/png": "[encoded data removed]",
            "text/plain": [
              "<Figure size 432x288 with 1 Axes>"
            ]
          },
          "metadata": {
            "needs_background": "light"
          }
        }
      ]
    },
    {
      "cell_type": "code",
      "source": [
        "print(train_seq.nbytes, train_oh.nbytes)"
      ],
      "metadata": {
        "colab": {
          "base_uri": "https://localhost:8080/"
        },
        "id": "NajP3yYCiRwx",
        "outputId": "607f9088-9f72-43f3-bc39-5264194d99bc"
      },
      "execution_count": 26,
      "outputs": [
        {
          "output_type": "stream",
          "name": "stdout",
          "text": [
            "8000000 4000000000\n"
          ]
        }
      ]
    },
    {
      "cell_type": "code",
      "source": [
        "model2 = keras.Sequential()\n",
        "\n",
        "model2.add(keras.layers.Embedding(500, 16, input_length=100))\n",
        "model2.add(keras.layers.SimpleRNN(8))\n",
        "model2.add(keras.layers.Dense(1, activation='sigmoid'))\n",
        "\n",
        "model2.summary()"
      ],
      "metadata": {
        "colab": {
          "base_uri": "https://localhost:8080/"
        },
        "id": "ByABuUOniYN2",
        "outputId": "2fb5de7c-4c9c-439d-c757-3d1dbf0cce2a"
      },
      "execution_count": 27,
      "outputs": [
        {
          "output_type": "stream",
          "name": "stdout",
          "text": [
            "Model: \"sequential_1\"\n",
            "_________________________________________________________________\n",
            " Layer (type)                Output Shape              Param #   \n",
            "=================================================================\n",
            " embedding (Embedding)       (None, 100, 16)           8000      \n",
            "                                                                 \n",
            " simple_rnn_1 (SimpleRNN)    (None, 8)                 200       \n",
            "                                                                 \n",
            " dense_1 (Dense)             (None, 1)                 9         \n",
            "                                                                 \n",
            "=================================================================\n",
            "Total params: 8,209\n",
            "Trainable params: 8,209\n",
            "Non-trainable params: 0\n",
            "_________________________________________________________________\n"
          ]
        }
      ]
    },
    {
      "cell_type": "code",
      "source": [
        "rmsprop = keras.optimizers.RMSprop(learning_rate=1e-4)\n",
        "model2.compile(optimizer=rmsprop, loss='binary_crossentropy', \n",
        "               metrics=['accuracy'])\n",
        "\n",
        "checkpoint_cb = keras.callbacks.ModelCheckpoint('best-embedding-model.h5', \n",
        "                                                save_best_only=True)\n",
        "early_stopping_cb = keras.callbacks.EarlyStopping(patience=3,\n",
        "                                                  restore_best_weights=True)\n",
        "\n",
        "history = model2.fit(train_seq, train_target, epochs=100, batch_size=64,\n",
        "                     validation_data=(val_seq, val_target),\n",
        "                     callbacks=[checkpoint_cb, early_stopping_cb])"
      ],
      "metadata": {
        "colab": {
          "base_uri": "https://localhost:8080/"
        },
        "id": "Qlripo63iofk",
        "outputId": "82c49df9-92ed-4df7-ce8a-e42debb8769d"
      },
      "execution_count": 28,
      "outputs": [
        {
          "output_type": "stream",
          "name": "stdout",
          "text": [
            "Epoch 1/100\n",
            "313/313 [==============================] - 56s 174ms/step - loss: 0.6946 - accuracy: 0.5184 - val_loss: 0.6952 - val_accuracy: 0.5100\n",
            "Epoch 2/100\n",
            "313/313 [==============================] - 52s 166ms/step - loss: 0.6885 - accuracy: 0.5419 - val_loss: 0.6926 - val_accuracy: 0.5188\n",
            "Epoch 3/100\n",
            "313/313 [==============================] - 53s 170ms/step - loss: 0.6839 - accuracy: 0.5613 - val_loss: 0.6908 - val_accuracy: 0.5238\n",
            "Epoch 4/100\n",
            "313/313 [==============================] - 52s 168ms/step - loss: 0.6794 - accuracy: 0.5751 - val_loss: 0.6895 - val_accuracy: 0.5262\n",
            "Epoch 5/100\n",
            "313/313 [==============================] - 53s 168ms/step - loss: 0.6747 - accuracy: 0.5872 - val_loss: 0.6883 - val_accuracy: 0.5274\n",
            "Epoch 6/100\n",
            "313/313 [==============================] - 52s 166ms/step - loss: 0.6700 - accuracy: 0.5957 - val_loss: 0.6870 - val_accuracy: 0.5390\n",
            "Epoch 7/100\n",
            "313/313 [==============================] - 52s 167ms/step - loss: 0.6655 - accuracy: 0.6057 - val_loss: 0.6859 - val_accuracy: 0.5398\n",
            "Epoch 8/100\n",
            "313/313 [==============================] - 52s 166ms/step - loss: 0.6610 - accuracy: 0.6122 - val_loss: 0.6849 - val_accuracy: 0.5422\n",
            "Epoch 9/100\n",
            "313/313 [==============================] - 52s 168ms/step - loss: 0.6568 - accuracy: 0.6193 - val_loss: 0.6840 - val_accuracy: 0.5442\n",
            "Epoch 10/100\n",
            "313/313 [==============================] - 52s 166ms/step - loss: 0.6526 - accuracy: 0.6280 - val_loss: 0.6836 - val_accuracy: 0.5476\n",
            "Epoch 11/100\n",
            "313/313 [==============================] - 53s 169ms/step - loss: 0.6485 - accuracy: 0.6305 - val_loss: 0.6830 - val_accuracy: 0.5518\n",
            "Epoch 12/100\n",
            "313/313 [==============================] - 55s 174ms/step - loss: 0.6445 - accuracy: 0.6355 - val_loss: 0.6821 - val_accuracy: 0.5512\n",
            "Epoch 13/100\n",
            "313/313 [==============================] - 55s 176ms/step - loss: 0.6407 - accuracy: 0.6389 - val_loss: 0.6816 - val_accuracy: 0.5536\n",
            "Epoch 14/100\n",
            "313/313 [==============================] - 56s 178ms/step - loss: 0.6370 - accuracy: 0.6434 - val_loss: 0.6817 - val_accuracy: 0.5584\n",
            "Epoch 15/100\n",
            "313/313 [==============================] - 55s 176ms/step - loss: 0.6333 - accuracy: 0.6478 - val_loss: 0.6815 - val_accuracy: 0.5582\n",
            "Epoch 16/100\n",
            "313/313 [==============================] - 56s 178ms/step - loss: 0.6298 - accuracy: 0.6525 - val_loss: 0.6816 - val_accuracy: 0.5614\n",
            "Epoch 17/100\n",
            "313/313 [==============================] - 55s 177ms/step - loss: 0.6265 - accuracy: 0.6570 - val_loss: 0.6820 - val_accuracy: 0.5638\n",
            "Epoch 18/100\n",
            "313/313 [==============================] - 57s 183ms/step - loss: 0.6231 - accuracy: 0.6599 - val_loss: 0.6816 - val_accuracy: 0.5620\n"
          ]
        }
      ]
    },
    {
      "cell_type": "code",
      "source": [
        "plt.plot(history.history['loss'])\n",
        "plt.plot(history.history['val_loss'])\n",
        "plt.xlabel('epoch')\n",
        "plt.ylabel('loss')\n",
        "plt.legend(['train', 'val'])\n",
        "plt.show()"
      ],
      "metadata": {
        "colab": {
          "base_uri": "https://localhost:8080/",
          "height": 279
        },
        "id": "GdwfUYATipSM",
        "outputId": "b213e41f-751f-4b90-e292-c93da0329ef1"
      },
      "execution_count": 29,
      "outputs": [
        {
          "output_type": "display_data",
          "data": {
            "image/png": "[encoded data removed]",
            "text/plain": [
              "<Figure size 432x288 with 1 Axes>"
            ]
          },
          "metadata": {
            "needs_background": "light"
          }
        }
      ]
    }
  ]
}